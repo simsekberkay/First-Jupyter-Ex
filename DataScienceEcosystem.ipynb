{
 "cells": [
  {
   "cell_type": "markdown",
   "id": "64dc2cc8-a8be-492d-9a42-d6d5561b5e1a",
   "metadata": {},
   "source": [
    "# Data Science Tools and Ecosystem"
   ]
  },
  {
   "cell_type": "markdown",
   "id": "6fc765d7-bf69-4d79-89ce-a79dded99d2a",
   "metadata": {},
   "source": [
    "# In this notebook, Data Science Tools and Ecosystem are summarized"
   ]
  },
  {
   "cell_type": "markdown",
   "id": "bcf0a507-e4e1-4bf3-ba4f-30ca77052e33",
   "metadata": {},
   "source": [
    "**Objectives:**\n",
    "\n",
    "- List popular languages for Data Science\n",
    "- Identify commonly used libraries in Data Science\n",
    "- Provide examples of open source development environment tools\n",
    "- Explain the basics of data manipulation and analysis\n",
    "- Demonstrate the use of Markdown in Jupyter notebooks"
   ]
  },
  {
   "cell_type": "markdown",
   "id": "110d44b2-3677-40d4-9d3b-5e85f64b628b",
   "metadata": {},
   "source": [
    "# Some of the popular languages that Data Science use are:\n",
    "# 1. Python\n",
    "# 2. R\n",
    "# 3. SQL"
   ]
  },
  {
   "cell_type": "markdown",
   "id": "6952865c-2515-4593-bf7f-aadfd5d2a928",
   "metadata": {},
   "source": [
    "# Some of the commonly used libraries used by Data Scientists include:\n",
    "# 1. Numpy\n",
    "# 2. Pandas\n",
    "# 3. Matplotlib"
   ]
  },
  {
   "cell_type": "markdown",
   "id": "403f332c-c383-4056-93cf-898979bea6de",
   "metadata": {},
   "source": [
    "| Data Science Tools |\n",
    "| ------------------ |\n",
    "| Jupyter Notebook |\n",
    "| RStudio |\n",
    "| Apache Zeppelin |"
   ]
  },
  {
   "cell_type": "markdown",
   "id": "7ce064dc-a45c-46ca-ac14-802cd41b06bd",
   "metadata": {},
   "source": [
    "### Below are a few examples of evaluating arithmetic expressions in Python"
   ]
  },
  {
   "cell_type": "code",
   "execution_count": 5,
   "id": "bff9610b-2ce7-44cb-8fe2-8c8fc024aefb",
   "metadata": {},
   "outputs": [
    {
     "data": {
      "text/plain": [
       "17"
      ]
     },
     "execution_count": 5,
     "metadata": {},
     "output_type": "execute_result"
    }
   ],
   "source": [
    "(3*4)+5\n",
    "#This is a simple arithmetic expression to multiply then add integers"
   ]
  },
  {
   "cell_type": "code",
   "execution_count": 6,
   "id": "8b7a592f-2c51-40fd-a700-94e1b8e20f86",
   "metadata": {},
   "outputs": [
    {
     "data": {
      "text/plain": [
       "3.3333333333333335"
      ]
     },
     "execution_count": 6,
     "metadata": {},
     "output_type": "execute_result"
    }
   ],
   "source": [
    "200/60\n",
    "#This will convert 200 minutes to hours by diving by 60"
   ]
  },
  {
   "cell_type": "markdown",
   "id": "c051f988-7973-4e6a-af88-bf6e177ee392",
   "metadata": {},
   "source": [
    "## Author\n",
    "\n",
    "Halit Berkay Şimşek\n"
   ]
  },
  {
   "cell_type": "code",
   "execution_count": null,
   "id": "8d00de06-b288-4d77-a734-10e3c00699c9",
   "metadata": {},
   "outputs": [],
   "source": []
  }
 ],
 "metadata": {
  "kernelspec": {
   "display_name": "Python 3 (ipykernel)",
   "language": "python",
   "name": "python3"
  },
  "language_info": {
   "codemirror_mode": {
    "name": "ipython",
    "version": 3
   },
   "file_extension": ".py",
   "mimetype": "text/x-python",
   "name": "python",
   "nbconvert_exporter": "python",
   "pygments_lexer": "ipython3",
   "version": "3.11.9"
  }
 },
 "nbformat": 4,
 "nbformat_minor": 5
}
